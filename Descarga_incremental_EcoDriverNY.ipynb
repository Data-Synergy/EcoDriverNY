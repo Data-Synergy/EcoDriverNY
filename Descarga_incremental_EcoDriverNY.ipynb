{
  "nbformat": 4,
  "nbformat_minor": 0,
  "metadata": {
    "colab": {
      "provenance": []
    },
    "kernelspec": {
      "name": "python3",
      "display_name": "Python 3"
    },
    "language_info": {
      "name": "python"
    }
  },
  "cells": [
    {
      "cell_type": "markdown",
      "source": [
        "## **Descarga Incremental de Datos para DATALAKE**"
      ],
      "metadata": {
        "id": "cOOH8SQ9EGdG"
      }
    },
    {
      "cell_type": "markdown",
      "source": [
        "### **Ecosistema Snowflake (Motor Spark)**"
      ],
      "metadata": {
        "id": "Tln_sXvzELtO"
      }
    },
    {
      "cell_type": "markdown",
      "source": [
        "Instalacion de Biblioteca Para conexión a SnowFlake"
      ],
      "metadata": {
        "id": "wA4UVoi-EVTl"
      }
    },
    {
      "cell_type": "code",
      "execution_count": null,
      "metadata": {
        "id": "KK7x9SBc0cA1"
      },
      "outputs": [],
      "source": [
        "!pip install snowflake"
      ]
    },
    {
      "cell_type": "code",
      "source": [
        "import snowflake.connector\n",
        "import requests\n",
        "import tempfile\n",
        "import os\n",
        "\n",
        "# Configuración de conexión a Snowflake\n",
        "conn = snowflake.connector.connect(\n",
        "    user='ELIASALMADA1234',\n",
        "    password='Ichi2017',\n",
        "    account='pzbgdyt-aib83585',\n",
        "    warehouse='COMPUTE_WH',\n",
        "    database='DATALAKE',\n",
        "    schema='PUBLIC'\n",
        ")\n",
        "\n",
        "# Nombre del stage en Snowflake donde deseas cargar los archivos\n",
        "stage_name = 'DATALAKE_TAXIS_NYC'\n",
        "\n",
        "# Base URL de los archivos Parquet\n",
        "base_url = \"https://d37ci6vzurychx.cloudfront.net/trip-data/\"\n",
        "# Año inicial y final\n",
        "start_year = 2021\n",
        "end_year = 2023\n",
        "# Meses del año\n",
        "months = [f'{str(month).zfill(2)}' for month in range(1, 13)]\n",
        "\n",
        "# Iterar sobre los años y meses para generar los enlaces de los archivos\n",
        "file_links = []\n",
        "for year in range(start_year, end_year + 1):\n",
        "    for month in months:\n",
        "        file_name = f\"yellow_tripdata_{year}-{month}.parquet\"\n",
        "        file_link = base_url + file_name\n",
        "        # Verificar si el enlace está disponible\n",
        "        response = requests.head(file_link)\n",
        "        if response.status_code == 200:\n",
        "            file_links.append((file_name, file_link))\n",
        "\n",
        "# Iterar sobre los enlaces de los archivos Parquet\n",
        "for file_name, file_link in file_links:\n",
        "    # Descargar el archivo Parquet desde la URL\n",
        "    response = requests.get(file_link)\n",
        "\n",
        "    # Crear un archivo temporal para almacenar los datos con el nombre deseado\n",
        "    temp_file = tempfile.NamedTemporaryFile(suffix='.parquet', prefix=file_name, delete=False)\n",
        "    temp_file_path = temp_file.name\n",
        "    temp_file.write(response.content)\n",
        "    temp_file.close()  # Cerrar el archivo temporal antes de cambiar el nombre\n",
        "\n",
        "    # Cambiar el nombre del archivo temporal\n",
        "    final_file_path = os.path.join(tempfile.gettempdir(), file_name)\n",
        "    os.rename(temp_file_path, final_file_path)\n",
        "\n",
        "    # Cargar el archivo Parquet en el stage de Snowflake\n",
        "    with conn.cursor() as cursor:\n",
        "        put_statement = f\"PUT 'file://{final_file_path}' @\\\"DATALAKE\\\".\\\"PUBLIC\\\".\\\"{stage_name}\\\"\"\n",
        "        cursor.execute(put_statement)\n",
        "\n",
        "# Cerrar la conexión\n",
        "conn.close()\n"
      ],
      "metadata": {
        "id": "3AOfHqkRAI4O"
      },
      "execution_count": 53,
      "outputs": []
    },
    {
      "cell_type": "markdown",
      "source": [
        "## **Automatizado**"
      ],
      "metadata": {
        "id": "2s_3PwFcGNsO"
      }
    },
    {
      "cell_type": "code",
      "source": [
        "import snowflake.connector\n",
        "import requests\n",
        "import tempfile\n",
        "import os\n",
        "from datetime import datetime, timedelta\n",
        "import calendar\n",
        "\n",
        "# Configuración de conexión a Snowflake\n",
        "conn = snowflake.connector.connect(\n",
        "    user='ELIASALMADA1234',\n",
        "    password='Ichi2017',\n",
        "    account='pzbgdyt-aib83585',\n",
        "    warehouse='COMPUTE_WH',\n",
        "    database='DATALAKE',\n",
        "    schema='PUBLIC'\n",
        ")\n",
        "\n",
        "# Nombre del stage en Snowflake donde deseas cargar los archivos\n",
        "stage_name = 'DATALAKE_TAXIS_NYC'\n",
        "\n",
        "# Obtener la fecha actual y calcular la fecha de tres meses atrás\n",
        "current_date = datetime.now()\n",
        "last_month_end = current_date.replace(day=1) - timedelta(days=1)\n",
        "three_months_ago = last_month_end.replace(day=1) - timedelta(days=last_month_end.day - 1)\n",
        "\n",
        "# Obtener el año y el mes del archivo Parquet correspondiente a tres meses atrás\n",
        "year_three_months_ago = three_months_ago.year\n",
        "month_three_months_ago = three_months_ago.month\n",
        "\n",
        "# Construir el nombre del archivo Parquet\n",
        "file_name = f\"yellow_tripdata_{year_three_months_ago}-{month_three_months_ago:02}.parquet\"\n",
        "\n",
        "# URL del archivo Parquet\n",
        "file_link = f\"https://d37ci6vzurychx.cloudfront.net/trip-data/{file_name}\"\n",
        "\n",
        "# Descargar el archivo Parquet desde la URL\n",
        "response = requests.get(file_link)\n",
        "\n",
        "# Crear un archivo temporal para almacenar los datos con el nombre deseado\n",
        "temp_file = tempfile.NamedTemporaryFile(suffix='.parquet', prefix=file_name, delete=False)\n",
        "temp_file_path = temp_file.name\n",
        "temp_file.write(response.content)\n",
        "temp_file.close()  # Cerrar el archivo temporal antes de cambiar el nombre\n",
        "\n",
        "# Cambiar el nombre del archivo temporal\n",
        "final_file_path = os.path.join(tempfile.gettempdir(), file_name)\n",
        "os.rename(temp_file_path, final_file_path)\n",
        "\n",
        "# Cargar el archivo Parquet en el stage de Snowflake\n",
        "with conn.cursor() as cursor:\n",
        "    put_statement = f\"PUT 'file://{final_file_path}' @\\\"DATALAKE\\\".\\\"PUBLIC\\\".\\\"{stage_name}\\\"\"\n",
        "    cursor.execute(put_statement)\n",
        "\n",
        "# Cerrar la conexión\n",
        "conn.close()\n"
      ],
      "metadata": {
        "id": "YPJo_6xECtNH"
      },
      "execution_count": 54,
      "outputs": []
    }
  ]
}
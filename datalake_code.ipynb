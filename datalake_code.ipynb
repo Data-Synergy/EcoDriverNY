{
 "cells": [
  {
   "cell_type": "markdown",
   "metadata": {},
   "source": [
    "## Historico a Datalake en Azure"
   ]
  },
  {
   "cell_type": "markdown",
   "metadata": {},
   "source": [
    "#### instalacion de bibliotecas necesarias para subir datasets desde webscrapping"
   ]
  },
  {
   "cell_type": "code",
   "execution_count": 1,
   "metadata": {},
   "outputs": [
    {
     "name": "stdout",
     "output_type": "stream",
     "text": [
      "Requirement already satisfied: azure-storage-blob in c:\\users\\elias\\appdata\\local\\programs\\python\\python311\\lib\\site-packages (12.19.1)\n",
      "Requirement already satisfied: azure-core<2.0.0,>=1.28.0 in c:\\users\\elias\\appdata\\local\\programs\\python\\python311\\lib\\site-packages (from azure-storage-blob) (1.30.1)\n",
      "Requirement already satisfied: cryptography>=2.1.4 in c:\\users\\elias\\appdata\\local\\programs\\python\\python311\\lib\\site-packages (from azure-storage-blob) (42.0.5)\n",
      "Requirement already satisfied: typing-extensions>=4.3.0 in c:\\users\\elias\\appdata\\local\\programs\\python\\python311\\lib\\site-packages (from azure-storage-blob) (4.10.0)\n",
      "Requirement already satisfied: isodate>=0.6.1 in c:\\users\\elias\\appdata\\local\\programs\\python\\python311\\lib\\site-packages (from azure-storage-blob) (0.6.1)\n",
      "Requirement already satisfied: requests>=2.21.0 in c:\\users\\elias\\appdata\\local\\programs\\python\\python311\\lib\\site-packages (from azure-core<2.0.0,>=1.28.0->azure-storage-blob) (2.31.0)\n",
      "Requirement already satisfied: six>=1.11.0 in c:\\users\\elias\\appdata\\local\\programs\\python\\python311\\lib\\site-packages (from azure-core<2.0.0,>=1.28.0->azure-storage-blob) (1.16.0)\n",
      "Requirement already satisfied: cffi>=1.12 in c:\\users\\elias\\appdata\\local\\programs\\python\\python311\\lib\\site-packages (from cryptography>=2.1.4->azure-storage-blob) (1.16.0)\n",
      "Requirement already satisfied: pycparser in c:\\users\\elias\\appdata\\local\\programs\\python\\python311\\lib\\site-packages (from cffi>=1.12->cryptography>=2.1.4->azure-storage-blob) (2.22)\n",
      "Requirement already satisfied: charset-normalizer<4,>=2 in c:\\users\\elias\\appdata\\local\\programs\\python\\python311\\lib\\site-packages (from requests>=2.21.0->azure-core<2.0.0,>=1.28.0->azure-storage-blob) (3.3.2)\n",
      "Requirement already satisfied: idna<4,>=2.5 in c:\\users\\elias\\appdata\\local\\programs\\python\\python311\\lib\\site-packages (from requests>=2.21.0->azure-core<2.0.0,>=1.28.0->azure-storage-blob) (3.6)\n",
      "Requirement already satisfied: urllib3<3,>=1.21.1 in c:\\users\\elias\\appdata\\local\\programs\\python\\python311\\lib\\site-packages (from requests>=2.21.0->azure-core<2.0.0,>=1.28.0->azure-storage-blob) (2.2.1)\n",
      "Requirement already satisfied: certifi>=2017.4.17 in c:\\users\\elias\\appdata\\local\\programs\\python\\python311\\lib\\site-packages (from requests>=2.21.0->azure-core<2.0.0,>=1.28.0->azure-storage-blob) (2024.2.2)\n",
      "Note: you may need to restart the kernel to use updated packages.\n"
     ]
    }
   ],
   "source": [
    "pip install azure-storage-blob"
   ]
  },
  {
   "cell_type": "code",
   "execution_count": 4,
   "metadata": {},
   "outputs": [
    {
     "name": "stdout",
     "output_type": "stream",
     "text": [
      "Requirement already satisfied: pyspark in c:\\users\\elias\\appdata\\local\\programs\\python\\python311\\lib\\site-packages (3.5.1)\n",
      "Requirement already satisfied: py4j==0.10.9.7 in c:\\users\\elias\\appdata\\local\\programs\\python\\python311\\lib\\site-packages (from pyspark) (0.10.9.7)\n",
      "Note: you may need to restart the kernel to use updated packages.\n"
     ]
    }
   ],
   "source": [
    "pip install pyspark"
   ]
  },
  {
   "cell_type": "markdown",
   "metadata": {},
   "source": [
    "#### Spark para poder descargar gran volumen de datos a traves de librería PySpark"
   ]
  },
  {
   "cell_type": "code",
   "execution_count": 5,
   "metadata": {},
   "outputs": [
    {
     "name": "stdout",
     "output_type": "stream",
     "text": [
      "Intentando cargar el archivo: https://d37ci6vzurychx.cloudfront.net/trip-data/yellow_tripdata_2021-01.parquet\n",
      "Archivo 'yellow_tripdata_2021-01.parquet' subido exitosamente a Azure Blob Storage.\n",
      "Intentando cargar el archivo: https://d37ci6vzurychx.cloudfront.net/trip-data/yellow_tripdata_2021-02.parquet\n",
      "Archivo 'yellow_tripdata_2021-02.parquet' subido exitosamente a Azure Blob Storage.\n",
      "Intentando cargar el archivo: https://d37ci6vzurychx.cloudfront.net/trip-data/yellow_tripdata_2021-03.parquet\n",
      "Archivo 'yellow_tripdata_2021-03.parquet' subido exitosamente a Azure Blob Storage.\n",
      "Intentando cargar el archivo: https://d37ci6vzurychx.cloudfront.net/trip-data/yellow_tripdata_2021-04.parquet\n",
      "Archivo 'yellow_tripdata_2021-04.parquet' subido exitosamente a Azure Blob Storage.\n",
      "Intentando cargar el archivo: https://d37ci6vzurychx.cloudfront.net/trip-data/yellow_tripdata_2021-05.parquet\n",
      "Archivo 'yellow_tripdata_2021-05.parquet' subido exitosamente a Azure Blob Storage.\n",
      "Intentando cargar el archivo: https://d37ci6vzurychx.cloudfront.net/trip-data/yellow_tripdata_2021-06.parquet\n",
      "Archivo 'yellow_tripdata_2021-06.parquet' subido exitosamente a Azure Blob Storage.\n",
      "Intentando cargar el archivo: https://d37ci6vzurychx.cloudfront.net/trip-data/yellow_tripdata_2021-07.parquet\n",
      "Archivo 'yellow_tripdata_2021-07.parquet' subido exitosamente a Azure Blob Storage.\n",
      "Intentando cargar el archivo: https://d37ci6vzurychx.cloudfront.net/trip-data/yellow_tripdata_2021-08.parquet\n",
      "Archivo 'yellow_tripdata_2021-08.parquet' subido exitosamente a Azure Blob Storage.\n",
      "Intentando cargar el archivo: https://d37ci6vzurychx.cloudfront.net/trip-data/yellow_tripdata_2021-09.parquet\n",
      "Archivo 'yellow_tripdata_2021-09.parquet' subido exitosamente a Azure Blob Storage.\n",
      "Intentando cargar el archivo: https://d37ci6vzurychx.cloudfront.net/trip-data/yellow_tripdata_2021-10.parquet\n",
      "Archivo 'yellow_tripdata_2021-10.parquet' subido exitosamente a Azure Blob Storage.\n",
      "Intentando cargar el archivo: https://d37ci6vzurychx.cloudfront.net/trip-data/yellow_tripdata_2021-11.parquet\n",
      "Archivo 'yellow_tripdata_2021-11.parquet' subido exitosamente a Azure Blob Storage.\n",
      "Intentando cargar el archivo: https://d37ci6vzurychx.cloudfront.net/trip-data/yellow_tripdata_2021-12.parquet\n",
      "Archivo 'yellow_tripdata_2021-12.parquet' subido exitosamente a Azure Blob Storage.\n",
      "Intentando cargar el archivo: https://d37ci6vzurychx.cloudfront.net/trip-data/yellow_tripdata_2022-01.parquet\n",
      "Archivo 'yellow_tripdata_2022-01.parquet' subido exitosamente a Azure Blob Storage.\n",
      "Intentando cargar el archivo: https://d37ci6vzurychx.cloudfront.net/trip-data/yellow_tripdata_2022-02.parquet\n",
      "Archivo 'yellow_tripdata_2022-02.parquet' subido exitosamente a Azure Blob Storage.\n",
      "Intentando cargar el archivo: https://d37ci6vzurychx.cloudfront.net/trip-data/yellow_tripdata_2022-03.parquet\n",
      "Archivo 'yellow_tripdata_2022-03.parquet' subido exitosamente a Azure Blob Storage.\n",
      "Intentando cargar el archivo: https://d37ci6vzurychx.cloudfront.net/trip-data/yellow_tripdata_2022-04.parquet\n",
      "Archivo 'yellow_tripdata_2022-04.parquet' subido exitosamente a Azure Blob Storage.\n",
      "Intentando cargar el archivo: https://d37ci6vzurychx.cloudfront.net/trip-data/yellow_tripdata_2022-05.parquet\n",
      "Archivo 'yellow_tripdata_2022-05.parquet' subido exitosamente a Azure Blob Storage.\n",
      "Intentando cargar el archivo: https://d37ci6vzurychx.cloudfront.net/trip-data/yellow_tripdata_2022-06.parquet\n",
      "Archivo 'yellow_tripdata_2022-06.parquet' subido exitosamente a Azure Blob Storage.\n",
      "Intentando cargar el archivo: https://d37ci6vzurychx.cloudfront.net/trip-data/yellow_tripdata_2022-07.parquet\n",
      "Archivo 'yellow_tripdata_2022-07.parquet' subido exitosamente a Azure Blob Storage.\n",
      "Intentando cargar el archivo: https://d37ci6vzurychx.cloudfront.net/trip-data/yellow_tripdata_2022-08.parquet\n",
      "Archivo 'yellow_tripdata_2022-08.parquet' subido exitosamente a Azure Blob Storage.\n",
      "Intentando cargar el archivo: https://d37ci6vzurychx.cloudfront.net/trip-data/yellow_tripdata_2022-09.parquet\n",
      "Archivo 'yellow_tripdata_2022-09.parquet' subido exitosamente a Azure Blob Storage.\n",
      "Intentando cargar el archivo: https://d37ci6vzurychx.cloudfront.net/trip-data/yellow_tripdata_2022-10.parquet\n",
      "Archivo 'yellow_tripdata_2022-10.parquet' subido exitosamente a Azure Blob Storage.\n",
      "Intentando cargar el archivo: https://d37ci6vzurychx.cloudfront.net/trip-data/yellow_tripdata_2022-11.parquet\n",
      "Archivo 'yellow_tripdata_2022-11.parquet' subido exitosamente a Azure Blob Storage.\n",
      "Intentando cargar el archivo: https://d37ci6vzurychx.cloudfront.net/trip-data/yellow_tripdata_2022-12.parquet\n",
      "Archivo 'yellow_tripdata_2022-12.parquet' subido exitosamente a Azure Blob Storage.\n",
      "Intentando cargar el archivo: https://d37ci6vzurychx.cloudfront.net/trip-data/yellow_tripdata_2023-01.parquet\n",
      "Archivo 'yellow_tripdata_2023-01.parquet' subido exitosamente a Azure Blob Storage.\n",
      "Intentando cargar el archivo: https://d37ci6vzurychx.cloudfront.net/trip-data/yellow_tripdata_2023-02.parquet\n",
      "Archivo 'yellow_tripdata_2023-02.parquet' subido exitosamente a Azure Blob Storage.\n",
      "Intentando cargar el archivo: https://d37ci6vzurychx.cloudfront.net/trip-data/yellow_tripdata_2023-03.parquet\n",
      "Archivo 'yellow_tripdata_2023-03.parquet' subido exitosamente a Azure Blob Storage.\n",
      "Intentando cargar el archivo: https://d37ci6vzurychx.cloudfront.net/trip-data/yellow_tripdata_2023-04.parquet\n",
      "Archivo 'yellow_tripdata_2023-04.parquet' subido exitosamente a Azure Blob Storage.\n",
      "Intentando cargar el archivo: https://d37ci6vzurychx.cloudfront.net/trip-data/yellow_tripdata_2023-05.parquet\n",
      "Archivo 'yellow_tripdata_2023-05.parquet' subido exitosamente a Azure Blob Storage.\n",
      "Intentando cargar el archivo: https://d37ci6vzurychx.cloudfront.net/trip-data/yellow_tripdata_2023-06.parquet\n",
      "Archivo 'yellow_tripdata_2023-06.parquet' subido exitosamente a Azure Blob Storage.\n",
      "Intentando cargar el archivo: https://d37ci6vzurychx.cloudfront.net/trip-data/yellow_tripdata_2023-07.parquet\n",
      "Archivo 'yellow_tripdata_2023-07.parquet' subido exitosamente a Azure Blob Storage.\n",
      "Intentando cargar el archivo: https://d37ci6vzurychx.cloudfront.net/trip-data/yellow_tripdata_2023-08.parquet\n",
      "Archivo 'yellow_tripdata_2023-08.parquet' subido exitosamente a Azure Blob Storage.\n",
      "Intentando cargar el archivo: https://d37ci6vzurychx.cloudfront.net/trip-data/yellow_tripdata_2023-09.parquet\n",
      "Archivo 'yellow_tripdata_2023-09.parquet' subido exitosamente a Azure Blob Storage.\n",
      "Intentando cargar el archivo: https://d37ci6vzurychx.cloudfront.net/trip-data/yellow_tripdata_2023-10.parquet\n",
      "Archivo 'yellow_tripdata_2023-10.parquet' subido exitosamente a Azure Blob Storage.\n",
      "Intentando cargar el archivo: https://d37ci6vzurychx.cloudfront.net/trip-data/yellow_tripdata_2023-11.parquet\n",
      "Archivo 'yellow_tripdata_2023-11.parquet' subido exitosamente a Azure Blob Storage.\n",
      "Intentando cargar el archivo: https://d37ci6vzurychx.cloudfront.net/trip-data/yellow_tripdata_2023-12.parquet\n",
      "Archivo 'yellow_tripdata_2023-12.parquet' subido exitosamente a Azure Blob Storage.\n",
      "Intentando cargar el archivo: https://d37ci6vzurychx.cloudfront.net/trip-data/yellow_tripdata_2024-01.parquet\n",
      "Archivo 'yellow_tripdata_2024-01.parquet' subido exitosamente a Azure Blob Storage.\n",
      "Intentando cargar el archivo: https://d37ci6vzurychx.cloudfront.net/trip-data/yellow_tripdata_2024-02.parquet\n",
      "No se pudo cargar el archivo yellow_tripdata_2024-02.parquet: HTTP Error 403: Forbidden\n"
     ]
    }
   ],
   "source": [
    "from pyspark.sql import SparkSession\n",
    "import urllib\n",
    "import os\n",
    "from azure.storage.blob import BlobServiceClient, BlobClient, ContainerClient\n",
    "\n",
    "# Inicializar la sesión de Spark\n",
    "spark = SparkSession.builder \\\n",
    "    .appName(\"Load NYC Taxi Data\") \\\n",
    "    .getOrCreate()\n",
    "\n",
    "# Configuración de las credenciales de Azure Blob Storage\n",
    "account_name = 'dbstorageceyfyf6fyuxbw'\n",
    "account_key = 'rH40G/3urTHoJ2R58YOKlQQ0TAQyIavk19Si1ZgLXNiAyiiLx6N31L/Iu47wiF4vbavSgROh+RXF+AStoik10A=='\n",
    "container_name = 'taxisbucket'\n",
    "\n",
    "# Crear un cliente Blob para interactuar con el contenedor de Azure\n",
    "blob_service_client = BlobServiceClient.from_connection_string(f\"DefaultEndpointsProtocol=https;AccountName={account_name};AccountKey={account_key};EndpointSuffix=core.windows.net\")\n",
    "container_client = blob_service_client.get_container_client(container_name)\n",
    "\n",
    "# Iterar sobre los meses desde enero de 2021\n",
    "año = 2021\n",
    "mes = 1\n",
    "while True:\n",
    "    # Construir el nombre del archivo Parquet\n",
    "    nombre_archivo = f\"yellow_tripdata_{año}-{mes:02}.parquet\"\n",
    "\n",
    "    # Construir la ruta del archivo Parquet\n",
    "    ruta_archivo = f\"https://d37ci6vzurychx.cloudfront.net/trip-data/{nombre_archivo}\"\n",
    "    print(f\"Intentando cargar el archivo: {ruta_archivo}\")  # Impresión para depurar\n",
    "\n",
    "    try:\n",
    "        # Nombre del blob en Azure Blob Storage (mismo que el nombre del archivo local)\n",
    "        blob_name = \"/taxis_yellow/\" + nombre_archivo\n",
    "\n",
    "        # Obtener el blob client para el archivo en Azure Blob Storage\n",
    "        blob_client = container_client.get_blob_client(blob_name)\n",
    "\n",
    "        # Subir el archivo directamente desde la URL al blob storage\n",
    "        with urllib.request.urlopen(ruta_archivo) as response:\n",
    "            blob_client.upload_blob(response.read(), overwrite=True)\n",
    "\n",
    "        print(f\"Archivo '{nombre_archivo}' subido exitosamente a Azure Blob Storage.\")\n",
    "    except Exception as e:\n",
    "        print(f\"No se pudo cargar el archivo {nombre_archivo}: {str(e)}\")\n",
    "        break  # Detener el bucle si no se puede cargar el archivo\n",
    "\n",
    "    # Pasar al siguiente mes\n",
    "    mes += 1\n",
    "    if mes > 12:\n",
    "        mes = 1\n",
    "        año += 1\n",
    "\n",
    "# Detener la sesión de Spark al finalizar\n",
    "spark.stop()\n"
   ]
  }
 ],
 "metadata": {
  "kernelspec": {
   "display_name": "Python 3",
   "language": "python",
   "name": "python3"
  },
  "language_info": {
   "codemirror_mode": {
    "name": "ipython",
    "version": 3
   },
   "file_extension": ".py",
   "mimetype": "text/x-python",
   "name": "python",
   "nbconvert_exporter": "python",
   "pygments_lexer": "ipython3",
   "version": "3.11.7"
  }
 },
 "nbformat": 4,
 "nbformat_minor": 2
}
